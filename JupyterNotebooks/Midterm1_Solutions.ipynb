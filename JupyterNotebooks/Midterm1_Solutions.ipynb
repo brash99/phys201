{
 "cells": [
  {
   "cell_type": "markdown",
   "metadata": {},
   "source": [
    "# Physics 201 Spring 2022 Midterm Solutions"
   ]
  },
  {
   "cell_type": "markdown",
   "metadata": {},
   "source": [
    "## Question 1"
   ]
  },
  {
   "attachments": {},
   "cell_type": "markdown",
   "metadata": {},
   "source": [
    "A cyclist begins riding west at 8.06 m/s and rides for 0.96 hours. She then turns around and rides east, back to her starting point, at 5.93 m/s. Assume that the origin of the coordinate system is her starting point and that the positive x-direction is eastward. (Express your answers in vector form where appropriate.)\n",
    "\n",
    "![Q1.png](Q1.png)"
   ]
  },
  {
   "cell_type": "markdown",
   "metadata": {},
   "source": [
    "(a) What are the cyclists's position vectors (in m) at these two times (t=0 and t=0.96 hrs)?\n",
    "\n",
    "We can calculate the position as\n",
    "\n",
    "$\\vec{x}(t) = \\vec{v} \\cdot t$\n",
    "\n",
    "So then:\n",
    "\n",
    "$\\vec{x}(0) = -8.06~m/s~\\hat{i}~\\cdot 0  = \\vec{0}$ \n",
    "\n",
    "$\\vec{x}(0.96 hrs) = -8.06~m/s~\\hat{i}~\\cdot (0.96 hr \\cdot 3600 s/hr)  = -27855~m~\\hat{i}$ "
   ]
  },
  {
   "cell_type": "markdown",
   "metadata": {},
   "source": [
    "(b) What is the cyclists's displacement (in m) between 0 hrs and 0.96 hrs?\n",
    "\n",
    "$\\vec{\\Delta x} = \\vec{x}_f - \\vec{x}_i = -27855~m~\\hat{i} - \\vec{0} = -27855~m~\\hat{i}$"
   ]
  },
  {
   "cell_type": "markdown",
   "metadata": {},
   "source": [
    "(c) What is the cyclists's displacement (in m) over the entire trip?\n",
    "\n",
    "$\\vec{\\Delta x} = \\vec{x}_f - \\vec{x}_i = \\vec{0} - \\vec{0} = \\vec{0}$"
   ]
  },
  {
   "cell_type": "markdown",
   "metadata": {},
   "source": [
    "(d) What is the cyclists's average velocity (in m/s) over the entire trip?\n",
    "\n",
    "$\\vec{v}_{avg} = \\frac{\\vec{\\Delta x}}{\\Delta t} = \\frac{\\vec{0}}{\\Delta t} = \\vec{0} $"
   ]
  },
  {
   "cell_type": "markdown",
   "metadata": {},
   "source": [
    "(e) What is the time taken for the entire trip (in seconds, rounded to the nearest second)?\n",
    "\n",
    "First, calculate the time for the return trip:\n",
    "\n",
    "$t_{return} = \\frac{27855~m}{5.93~m/s} = 4697~s$\n",
    "\n",
    "The time for the outgoing trip is:\n",
    "\n",
    "$t_{outgoing} = 0.96 hr \\cdot 3600 s/hr = 3456~s$\n",
    "\n",
    "Thus, the total time is:\n",
    "\n",
    "$t_{total} = 4697~s + 3456~s = 8153~s$\n",
    "\n"
   ]
  },
  {
   "cell_type": "markdown",
   "metadata": {},
   "source": [
    "\n",
    "(f) What is the average speed for the entire trip (in m/s, rounded to 2 decimal places)?\n",
    "\n",
    "$s_{avg} = \\frac{Total~Distance}{Total~Time} = \\frac{2*27855~m}{8153~s} = 6.83~m/s$"
   ]
  },
  {
   "cell_type": "markdown",
   "metadata": {},
   "source": [
    "## Question 2"
   ]
  },
  {
   "cell_type": "markdown",
   "metadata": {},
   "source": [
    "Freight trains can produce only relatively small acceleration and decelerations.\n",
    "\n",
    "![Q2.png](Q2.png)\n",
    "\n",
    "\n",
    "(a) What is the final velocity (in m/s) of a freight train that accelerates at a rate of 0.0500 $m/s^2$ for 8.00 min, starting with an initial velocity of 3.00 m/s?\n",
    "\n",
    "$t = 8.00~min \\cdot 60~s/min = 480.0~s$\n",
    "\n",
    "$v_f = v_i + at = 3.00 + (0.0500)(480.0) = 27.0~m/s$\n",
    "\n"
   ]
  },
  {
   "cell_type": "markdown",
   "metadata": {},
   "source": [
    "(b) If the train can slow down at a rate of 0.650 $m/s^2$, how long (in s) will it take to come to a stop from this velocity?\n",
    "\n",
    "For the deceleration phase, we have that:\n",
    "\n",
    "$v_f = 0~m/s$\n",
    "\n",
    "$v_i = 27.0~m/s$\n",
    "\n",
    "$a = -0.650~m/s^2$\n",
    "\n",
    "$t = \\frac{v_f - v_i}{a} = \\frac{0.0 - 27.0}{-0.650} = 41.5~s$\n",
    "\n",
    "\n"
   ]
  },
  {
   "cell_type": "markdown",
   "metadata": {},
   "source": [
    "(c) How far (in m) will it travel in each case (accleration and deceleration)?\n",
    "\n",
    "Acceleration:\n",
    "\n",
    "$\\Delta x = v_i t + \\frac{1}{2}at^2 = (3.0)(480) + \\frac{1}{2}(0.05)(480)^2 = 7200~m$\n",
    "\n",
    "Deceleration:\n",
    "\n",
    "$\\Delta x = v_i t + \\frac{1}{2}at^2 = (27.0)(41.5) + \\frac{1}{2}(-0.65)(41.5)^2 = 561~m$\n"
   ]
  },
  {
   "cell_type": "markdown",
   "metadata": {},
   "source": [
    "## Question 3"
   ]
  },
  {
   "cell_type": "markdown",
   "metadata": {},
   "source": [
    "A cat is launched at an angle of 45° from the horizontal and lands 5 s later on a soft, protective, safe platform that is 2.8 m above the original position from which it was launched.\n",
    "\n",
    "![Q3.png](Q3.png)"
   ]
  },
  {
   "cell_type": "markdown",
   "metadata": {},
   "source": [
    "(a) What is the initial speed of the cat (in m/s)?\n",
    "\n",
    "X Direction:\n",
    "\n",
    "$a_x = 0$\n",
    "\n",
    "$v_{ix} = v_i \\cdot cos(\\theta)$\n",
    "\n",
    "$t = 5~s$\n",
    "\n",
    "Therefore, we have that:\n",
    "\n",
    "$\\Delta x = v_{ix}t + \\frac{1}{2}a_xt^2$\n",
    "\n",
    "$\\Delta x = v_i \\cdot cos(\\theta) \\cdot t = v_i \\cdot cos(45^\\circ) \\cdot 5 = 3.536 v_i$\n",
    "\n",
    "Y Direction:\n",
    "\n",
    "$a_y = -g$\n",
    "\n",
    "$v_{iy} = v_i \\cdot sin(\\theta)$\n",
    "\n",
    "$\\Delta y = h = 2.8~m$\n",
    "\n",
    "Therefore, we have that:\n",
    "\n",
    "$\\Delta y = v_{iy}t + \\frac{1}{2}a_y t^2$\n",
    "\n",
    "$ h = v_i \\cdot sin(\\theta) \\cdot t  - \\frac{g}{2} t^2$\n",
    "\n",
    "$2.8 = v_i \\cdot sin(45^\\circ) \\cdot 5 - \\frac{9.8}{2} 5^2$\n",
    "\n",
    "$2.8 = 3.536 v_i - 122.5$\n",
    "\n",
    "$v_i = \\frac{2.8+122.5}{3.536} = 35.4~m/s$\n",
    "\n",
    "\n"
   ]
  },
  {
   "cell_type": "markdown",
   "metadata": {},
   "source": [
    "(b) What is the maximum altitude (in m)?\n",
    "\n",
    "Consider again the y-motion, from launch until maximum altitude.  We have that:\n",
    "\n",
    "$v_{iy} = v_i \\cdot sin(\\theta) = (35.4)(sin(45^\\circ)) = 25.06~m/s$\n",
    "\n",
    "$v_{fy} = 0$\n",
    "\n",
    "$a_y = -9.8~m/s^2$\n",
    "\n",
    "$v_{fy}^2 = v_{iy}^2 + 2 a_y \\Delta y$\n",
    "\n",
    "$0 = (25.06)^2 - 2(9.8)\\Delta y$\n",
    "\n",
    "$\\Delta y = \\frac{-(25.06)^2}{-19.6} = 32.04~m$\n"
   ]
  },
  {
   "cell_type": "markdown",
   "metadata": {},
   "source": [
    "(c) How far away, horizontally, does the cat land (in m)?\n",
    "\n",
    "From above, we have that:\n",
    "    \n",
    "$\\Delta x  = 3.536 v_i = 3.536 \\cdot 35.4 = 125~m$\n"
   ]
  },
  {
   "cell_type": "markdown",
   "metadata": {},
   "source": [
    "(d) Calculate the displacement (in m) from the point of launch to the position where the cat lands. (Express your answer in vector form. Assume the projectile initially travels in the +x and +y-directions, where the +x-direction is horizontal and the +y-direction is straight up.)\n",
    "\n",
    "$\\vec{\\Delta r} = \\vec{\\Delta x} + \\vec{\\Delta y} = 125~\\hat{i} + 2.8~\\hat{j}$"
   ]
  },
  {
   "cell_type": "code",
   "execution_count": null,
   "metadata": {},
   "outputs": [],
   "source": []
  }
 ],
 "metadata": {
  "kernelspec": {
   "display_name": "Python 3",
   "language": "python",
   "name": "python3"
  },
  "language_info": {
   "codemirror_mode": {
    "name": "ipython",
    "version": 3
   },
   "file_extension": ".py",
   "mimetype": "text/x-python",
   "name": "python",
   "nbconvert_exporter": "python",
   "pygments_lexer": "ipython3",
   "version": "3.6.8"
  },
  "latex_envs": {
   "LaTeX_envs_menu_present": true,
   "autoclose": false,
   "autocomplete": true,
   "bibliofile": "biblio.bib",
   "cite_by": "apalike",
   "current_citInitial": 1,
   "eqLabelWithNumbers": true,
   "eqNumInitial": 1,
   "hotkeys": {
    "equation": "Ctrl-E",
    "itemize": "Ctrl-I"
   },
   "labels_anchors": false,
   "latex_user_defs": false,
   "report_style_numbering": false,
   "user_envs_cfg": false
  }
 },
 "nbformat": 4,
 "nbformat_minor": 2
}
