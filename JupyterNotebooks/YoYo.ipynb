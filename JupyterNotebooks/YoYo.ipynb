{
 "cells": [
  {
   "cell_type": "code",
   "execution_count": 2,
   "metadata": {},
   "outputs": [],
   "source": [
    "import numpy as np\n",
    "import matplotlib.pyplot as plt\n",
    "\n",
    "import sys\n",
    "sys.path.append('/home/brash/python_modules')\n",
    "from dark_mode import *\n",
    "set_dark_mode(True)\n"
   ]
  },
  {
   "cell_type": "code",
   "execution_count": null,
   "metadata": {},
   "outputs": [],
   "source": [
    "m = 0.25\n",
    "g = 9.80524\n",
    "r1 = 0.015\n",
    "r2 = 0.045\n",
    "mu_s_max = 0.60\n",
    "\n",
    "# Calculate moment of inertia\n",
    "A_inner = np.pi*r1**2\n",
    "A_outer = np.pi*r2**2\n",
    "A_total = A_inner+2*A_outer\n",
    "\n",
    "m_inner = A_inner/A_total*m\n",
    "m_outer = 2*A_outer/A_total*m\n",
    "\n",
    "I_inner = 0.5*m_inner*r1**2\n",
    "I_outer = 0.5*m_outer*r2**2\n",
    "I = I_inner+I_outer\n",
    "\n",
    "npts = 21\n",
    "\n",
    "T = np.zeros(npts)\n",
    "ax = np.zeros(npts)\n",
    "mu = np.zeros(npts)\n",
    "\n",
    "\n",
    "# Case 2:  Pulling to the right\n",
    "\n",
    "for i in range(npts):\n",
    "    T[i]=1.0+i/(npts-1)*2.0\n",
    "    ax[i] = T[i]*(r2-r1)/(I/r2+m*r2)\n",
    "    mu[i] = (T[i]-m*ax[i])/(m*g)\n",
    "    \n",
    "    \n",
    "plt.plot(T,ax)\n",
    "plt.xlabel('Tension (N)')\n",
    "plt.ylabel('Acceleration (m/s^2)')\n",
    "plt.show()"
   ]
  },
  {
   "cell_type": "code",
   "execution_count": null,
   "metadata": {},
   "outputs": [],
   "source": [
    "plt.plot(T,mu)\n",
    "plt.xlabel('Tension (N)')\n",
    "plt.ylabel('Coefficient of Friction')"
   ]
  },
  {
   "cell_type": "code",
   "execution_count": null,
   "metadata": {},
   "outputs": [],
   "source": [
    "# Case 3:  Pulling to the right at an angle, theta\n",
    "\n",
    "print (mu_s_max*m*g)\n",
    "\n",
    "lhs = np.zeros(1000)\n",
    "rhs = np.zeros(1000)\n",
    "theta_c = np.zeros(1000)\n",
    "\n",
    "T = 1.4\n",
    "\n",
    "flag = True\n",
    "for j in range(1000,0,-1):\n",
    "    theta_c[j-1] = j/1000.00*90.0\n",
    "    theta_c_r = theta_c[j-1]*np.pi/180.0\n",
    "    fval = np.cos(theta_c_r)+mu_s_max*np.sin(theta_c_r)-mu_s_max*m*g/T\n",
    "    lhs[j-1]=np.cos(theta_c_r)+mu_s_max*np.sin(theta_c_r)\n",
    "    rhs[j-1]=mu_s_max*m*g/T\n",
    "    if fval>=0.0 and flag:\n",
    "        theta_critical=theta_c[j-1]\n",
    "        flag=False\n",
    "        \n",
    "plt.plot(theta_c,lhs)\n",
    "plt.plot(theta_c,rhs)\n",
    "print ('theta_critical = ',theta_critical)"
   ]
  },
  {
   "cell_type": "code",
   "execution_count": null,
   "metadata": {},
   "outputs": [],
   "source": []
  },
  {
   "cell_type": "code",
   "execution_count": null,
   "metadata": {},
   "outputs": [],
   "source": []
  }
 ],
 "metadata": {
  "kernelspec": {
   "display_name": "Python 3",
   "language": "python",
   "name": "python3"
  },
  "language_info": {
   "codemirror_mode": {
    "name": "ipython",
    "version": 3
   },
   "file_extension": ".py",
   "mimetype": "text/x-python",
   "name": "python",
   "nbconvert_exporter": "python",
   "pygments_lexer": "ipython3",
   "version": "3.6.8"
  }
 },
 "nbformat": 4,
 "nbformat_minor": 2
}
