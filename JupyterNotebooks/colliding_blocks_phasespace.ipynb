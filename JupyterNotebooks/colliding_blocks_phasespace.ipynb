{
 "cells": [
  {
   "cell_type": "code",
   "execution_count": 99,
   "metadata": {},
   "outputs": [],
   "source": [
    "import numpy as np\n",
    "import matplotlib.pyplot as plt"
   ]
  },
  {
   "cell_type": "code",
   "execution_count": 100,
   "metadata": {},
   "outputs": [],
   "source": [
    "def setEp(m1,v1,m2,v2):\n",
    "    E0 = 0.5*m1*v1**2+0.5*m2*v2**2\n",
    "    p0 = m1*v1+m2*v2\n",
    "    return (E0,p0)"
   ]
  },
  {
   "cell_type": "code",
   "execution_count": 101,
   "metadata": {},
   "outputs": [],
   "source": [
    "def collide(m1,m2,v1,v2,E0,p0):\n",
    "    a = m2**2/m1+m2\n",
    "    b = -2*p0*m2/m1\n",
    "    c = p0**2/m1-2*E0\n",
    "    \n",
    "    v21 = (-1.0*b+np.sqrt(b**2-4.0*a*c))/(2.0*a)\n",
    "    v22 = (-1.0*b-np.sqrt(b**2-4.0*a*c))/(2.0*a)\n",
    "    #print (\"v2 roots: \",v21,v22)\n",
    "    \n",
    "    v11 = (p0-m2*v21)/m1\n",
    "    v12 = (p0-m2*v22)/m1\n",
    "    \n",
    "    #print (\"v1 roots: \",v11,v12)\n",
    "    #print()\n",
    "    \n",
    "    return (v12,v22)"
   ]
  },
  {
   "cell_type": "code",
   "execution_count": 125,
   "metadata": {},
   "outputs": [
    {
     "name": "stdout",
     "output_type": "stream",
     "text": [
      "-2.0 0.0\n",
      "\n",
      "Number of collisions =  3141591\n",
      "Pi =  3.141591\n"
     ]
    }
   ],
   "source": [
    "xl = []\n",
    "yl = []\n",
    "\n",
    "m1 = 1000000000000.0\n",
    "m2 = 1.0\n",
    "\n",
    "v1 = -2.0\n",
    "v2 = 0.0\n",
    "\n",
    "N_collisions = 0\n",
    "\n",
    "print (v1,v2)\n",
    "print()\n",
    "xl.append(np.sqrt(m1)*v1)\n",
    "yl.append(np.sqrt(m2)*v2)\n",
    "    \n",
    "\n",
    "flag = True\n",
    "while (flag):\n",
    "    \n",
    "    E0,p0 = setEp(m1,v1,m2,v2)\n",
    "    v1,v2 = collide(m1,m2,v1,v2,E0,p0)\n",
    "    xl.append(np.sqrt(m1)*v1)\n",
    "    yl.append(np.sqrt(m2)*v2)\n",
    "    N_collisions +=1 \n",
    "    #print (v1,v2)\n",
    "    #print()\n",
    "\n",
    "    v2 = -v2\n",
    "    if (v1>0 and v2>0 and v1>v2):\n",
    "        #N_collisions += 1\n",
    "        flag = False\n",
    "    else:\n",
    "        xl.append(np.sqrt(m1)*v1)\n",
    "        yl.append(np.sqrt(m2)*v2)\n",
    "        N_collisions += 1\n",
    "\n",
    "    #print (v1,v2)\n",
    "    #print()\n",
    "    \n",
    "    \n",
    "print (\"Number of collisions = \",N_collisions)\n",
    "\n",
    "print (\"Pi = \",N_collisions*np.sqrt(m2/m1))\n",
    "\n"
   ]
  },
  {
   "cell_type": "code",
   "execution_count": 126,
   "metadata": {},
   "outputs": [
    {
     "data": {
      "text/plain": [
       "[<matplotlib.lines.Line2D at 0x7f8e12b633c8>]"
      ]
     },
     "execution_count": 126,
     "metadata": {},
     "output_type": "execute_result"
    },
    {
     "data": {
      "image/png": "[encoded data removed]",
      "text/plain": [
       "<Figure size 504x504 with 1 Axes>"
      ]
     },
     "metadata": {
      "needs_background": "light"
     },
     "output_type": "display_data"
    }
   ],
   "source": [
    "plt.figure(figsize=(7, 7))\n",
    "plt.plot(xl,yl)\n",
    "\n",
    "x = []\n",
    "yu = []\n",
    "yl = []\n",
    "for i in range(1000):\n",
    "    x.append(-np.sqrt(2.0*E0) + i/999.0*2*np.sqrt(2.0*E0))\n",
    "    yu.append(np.sqrt(2.0*E0 - x[i]**2))\n",
    "    yl.append(-np.sqrt(2.0*E0 - x[i]**2))\n",
    "    \n",
    "plt.plot(x,yu,'r-')\n",
    "plt.plot(x,yl,'r-')\n",
    "    "
   ]
  },
  {
   "cell_type": "code",
   "execution_count": null,
   "metadata": {},
   "outputs": [],
   "source": []
  },
  {
   "cell_type": "code",
   "execution_count": null,
   "metadata": {},
   "outputs": [],
   "source": []
  }
 ],
 "metadata": {
  "kernelspec": {
   "display_name": "Python 3",
   "language": "python",
   "name": "python3"
  },
  "language_info": {
   "codemirror_mode": {
    "name": "ipython",
    "version": 3
   },
   "file_extension": ".py",
   "mimetype": "text/x-python",
   "name": "python",
   "nbconvert_exporter": "python",
   "pygments_lexer": "ipython3",
   "version": "3.6.8"
  }
 },
 "nbformat": 4,
 "nbformat_minor": 4
}
