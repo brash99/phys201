{
 "cells": [
  {
   "cell_type": "code",
   "execution_count": 1,
   "metadata": {},
   "outputs": [],
   "source": [
    "%matplotlib inline\n",
    "import numpy as np\n",
    "import matplotlib.pyplot as plt"
   ]
  },
  {
   "cell_type": "code",
   "execution_count": 2,
   "metadata": {},
   "outputs": [
    {
     "name": "stdout",
     "output_type": "stream",
     "text": [
      "Theta_max =  38.659808254090095\n"
     ]
    }
   ],
   "source": [
    "mu_s_max = 0.80\n",
    "mu_k = 0.50\n",
    "epsilon = 1.0E-10\n",
    "\n",
    "theta_max = 180.0/np.pi*np.arctan(mu_s_max) # maximum angle of incline in degrees (when slipping starts)\n",
    "print (\"Theta_max = \",theta_max)\n",
    "\n",
    "t_max = 10.0 # maximum time of simulation.\n",
    "\n",
    "m = 0.500 # mass of object in kg\n",
    "g = 9.80 # acceleration of gravity in m/s^2\n",
    "\n",
    "xs = 1.00\n",
    "ys = 0.50\n",
    "xl = 0.20\n",
    "yl = 0.10\n",
    "\n",
    "r = np.sqrt((xs/2.0)**2+(yl/2.0)**2) # radius to the center of mass\n",
    "x0 = xs/2.0 # initial x position of the c.m.\n",
    "y0 = yl/2.0 # initial y position of the c.m.\n",
    "theta_0 = 180.0/np.pi*np.arctan(y0/x0) # angular offset of the c.m."
   ]
  },
  {
   "cell_type": "code",
   "execution_count": 3,
   "metadata": {},
   "outputs": [],
   "source": [
    "def get_acceleration(theta,mu):\n",
    "    a = -g*np.sin(theta*np.pi/180.0)+mu*g*np.cos(theta*np.pi/180.0)\n",
    "    return a\n",
    "\n",
    "def get_friction(theta,mu):\n",
    "    N = m*g*np.cos(theta*np.pi/180.0)\n",
    "    f = mu*N\n",
    "    return f"
   ]
  },
  {
   "cell_type": "code",
   "execution_count": 4,
   "metadata": {},
   "outputs": [
    {
     "data": {
      "image/png": "[encoded data removed]",
      "text/plain": [
       "<Figure size 432x288 with 1 Axes>"
      ]
     },
     "metadata": {
      "needs_background": "light"
     },
     "output_type": "display_data"
    }
   ],
   "source": [
    "nsteps = 2001\n",
    "debug = False\n",
    "\n",
    "xpos = np.zeros(nsteps)\n",
    "ypos = np.zeros(nsteps)\n",
    "\n",
    "a = np.zeros(nsteps)\n",
    "v = np.zeros(nsteps)\n",
    "mu = np.zeros(nsteps)\n",
    "theta_step = np.zeros(nsteps)\n",
    "f = np.zeros(nsteps)\n",
    "t = np.zeros(nsteps)\n",
    "\n",
    "theta_old = 0.0\n",
    "xpos_old = x0\n",
    "ypos_old = y0\n",
    "xpos[0] = x0\n",
    "ypos[0] = y0\n",
    "\n",
    "v[0] = 0.0\n",
    "a[0] = 0.0\n",
    "v_old = 0.0\n",
    "\n",
    "for i in range(1,nsteps):\n",
    "    dt = t_max/(nsteps-1)\n",
    "    t[i] = i*dt\n",
    "    theta_step[i] = t[i]/t_max*1.07*theta_max\n",
    "    a_compare = get_acceleration(theta_step[i],mu_s_max)\n",
    "    \n",
    "    if (theta_step[i]) > theta_max: theta_step[i] = theta_max\n",
    "        \n",
    "    dtheta = theta_step[i]-theta_old\n",
    "    \n",
    "    if debug: print (i, theta_old, theta_step[i], a_compare, dtheta)\n",
    "    \n",
    "    theta_old = theta_step[i]\n",
    "    \n",
    "    if a_compare > 0:\n",
    "        a[i] = 0.0\n",
    "        mu_theta = np.tan(theta_step[i]*np.pi/180.0)\n",
    "        f[i] = get_friction(theta_step[i],mu_theta)\n",
    "        xpos[i] = xpos_old - r*dtheta*np.pi/180.0*np.sin(np.pi/180.0*(theta_step[i]+theta_0))\n",
    "        ypos[i] = ypos_old + r*dtheta*np.pi/180.0*np.cos(np.pi/180.0*(theta_step[i]+theta_0))\n",
    "        if debug: print (\"static: \",i,xpos[i],xpos_old,ypos[i],ypos_old)\n",
    "        xpos_old = xpos[i]\n",
    "        ypos_old = ypos[i]\n",
    "    else:\n",
    "        a[i] = get_acceleration(theta_step[i],mu_k)\n",
    "        f[i] = get_friction(theta_step[i],mu_k)\n",
    "        v[i] = v_old + a[i]*dt\n",
    "        dx = v_old*dt + 0.5*a[i]*dt**2\n",
    "        v_old = v[i]\n",
    "        \n",
    "        xpos[i] = xpos_old + dx*np.cos(np.pi/180.0*theta_step[i])\n",
    "        ypos[i] = ypos_old + dx*np.sin(np.pi/180.0*theta_step[i])\n",
    "        if debug: print (\"kinetic: \",i,xpos[i],xpos_old,ypos[i],ypos_old)\n",
    "        xpos_old = xpos[i]\n",
    "        ypos_old = ypos[i]\n",
    "        \n",
    "plt.plot(t,abs(a))\n",
    "plt.xlabel('Time (s)')\n",
    "plt.ylabel('|a| (m/s^2)')\n",
    "plt.title('Inclined Plane: mu_s_max = 0.80, mu_k = 0.50')\n",
    "plt.show()"
   ]
  },
  {
   "cell_type": "code",
   "execution_count": 5,
   "metadata": {},
   "outputs": [
    {
     "data": {
      "image/png": "[encoded data removed]",
      "text/plain": [
       "<Figure size 432x288 with 1 Axes>"
      ]
     },
     "metadata": {
      "needs_background": "light"
     },
     "output_type": "display_data"
    }
   ],
   "source": [
    "plt.plot(t,f)\n",
    "plt.xlabel('Time (s)')\n",
    "plt.ylabel('Friction (N)')\n",
    "plt.title('Inclined Plane: mu_s_max = 0.80, mu_k = 0.50')\n",
    "plt.show()"
   ]
  },
  {
   "cell_type": "code",
   "execution_count": 6,
   "metadata": {},
   "outputs": [
    {
     "name": "stdout",
     "output_type": "stream",
     "text": [
      "10.0\n",
      "n, FPS, framesNum =  2001 40 400\n"
     ]
    }
   ],
   "source": [
    "print (t[-1])\n",
    "for i in range(30,60):\n",
    "    FPS = i\n",
    "    framesNum = int(FPS*t[-1])\n",
    "    if ((nsteps-1)%framesNum==0):\n",
    "        break\n",
    "        \n",
    "print (\"n, FPS, framesNum = \", nsteps,FPS,framesNum)"
   ]
  },
  {
   "cell_type": "code",
   "execution_count": null,
   "metadata": {},
   "outputs": [
    {
     "name": "stdout",
     "output_type": "stream",
     "text": [
      "26.565051165618833\n"
     ]
    }
   ],
   "source": [
    "from matplotlib import animation\n",
    "from matplotlib.patches import Rectangle, Ellipse\n",
    "from IPython.display import HTML\n",
    "from matplotlib import patches\n",
    "from matplotlib.collections import PatchCollection\n",
    "\n",
    "fig = plt.figure(figsize=(8, 8))\n",
    "ax = plt.axes(xlim=(-0.1, 0.8), ylim=(-0.1, 0.8))\n",
    "ax.axis('on')\n",
    "\n",
    "#fig2, axs2 = plt.subplots(nrows=1, ncols=1, figsize=(8,8))\n",
    "#plt.plot(xpos,ypos)\n",
    "\n",
    "plt.xlabel('X position (m)')\n",
    "plt.ylabel('Y position (m)')\n",
    "plt.title('Inclined Plane: mu_s_max = 0.80, mu_k = 0.50')\n",
    "\n",
    "#plt.show()\n",
    "\n",
    "line1, = ax.plot([], [], 'b-', lw=2)\n",
    "line2, = ax.plot([], [], 'b-', lw=2)\n",
    "line3, = ax.plot([], [], 'b-', lw=2)\n",
    "line4, = ax.plot([], [], 'b-', lw=2)\n",
    "line5, = ax.plot([], [], 'r-', lw=2)\n",
    "\n",
    "#airpods = Rectangle((xpos[0]-xl/2.0, ypos[0]-yl/2.0),xl,yl,facecolor=\"blue\",fill=True)\n",
    "ball = Ellipse((xpos[0], ypos[0]),0.01,0.01,facecolor = 'red',fill=True)\n",
    "phi = 180.0/np.pi*np.arctan(yl/(xl+epsilon))\n",
    "print (phi)\n",
    "\n",
    "# Define the different elements in the animation\n",
    "def init():\n",
    "    line1.set_data([], [])\n",
    "    line2.set_data([], [])\n",
    "    line3.set_data([], [])\n",
    "    line4.set_data([], [])\n",
    "    line5.set_data([], [])\n",
    "    #ax.add_patch(airpods)\n",
    "    ax.add_patch(ball)\n",
    "    return line1, line2, line3, line4, line5, ball\n",
    "\n",
    "# Animation function. This is called sequentially.\n",
    "def animate(j):\n",
    "    i = (j+1)*int((nsteps-1)/framesNum)-5\n",
    "    if debug: i,j,print (xpos[i],ypos[i])\n",
    "    psil = phi - theta_step[i]\n",
    "    psir = phi + theta_step[i]\n",
    "    diag = np.sqrt(xl**2+yl**2)/2.0\n",
    "    \n",
    "    thisx = [xpos[i]-diag*np.cos(psil*np.pi/180.0), xpos[i]+diag*np.cos(psir*np.pi/180.0)]\n",
    "    thisy = [ypos[i]+diag*np.sin(psil*np.pi/180.0), ypos[i]+diag*np.sin(psir*np.pi/180.0)]\n",
    "    line1.set_data(thisx, thisy)\n",
    "    \n",
    "    thisx = [xpos[i]-diag*np.cos(psir*np.pi/180.0), xpos[i]+diag*np.cos(psil*np.pi/180.0)]\n",
    "    thisy = [ypos[i]-diag*np.sin(psir*np.pi/180.0), ypos[i]-diag*np.sin(psil*np.pi/180.0)]\n",
    "    line2.set_data(thisx, thisy)\n",
    "    \n",
    "    thisx = [xpos[i]-diag*np.cos(psil*np.pi/180.0), xpos[i]-diag*np.cos(psir*np.pi/180.0)]\n",
    "    thisy = [ypos[i]+diag*np.sin(psil*np.pi/180.0), ypos[i]-diag*np.sin(psir*np.pi/180.0)]\n",
    "    line3.set_data(thisx, thisy)\n",
    "    \n",
    "    thisx = [xpos[i]+diag*np.cos(psir*np.pi/180.0), xpos[i]+diag*np.cos(psil*np.pi/180.0)]\n",
    "    thisy = [ypos[i]+diag*np.sin(psir*np.pi/180.0), ypos[i]-diag*np.sin(psil*np.pi/180.0)]\n",
    "    line4.set_data(thisx, thisy)\n",
    "    \n",
    "    thisx = [0, xs*np.cos(theta_step[i]*np.pi/180.0)]\n",
    "    thisy = [0, xs*np.sin(theta_step[i]*np.pi/180.0)]\n",
    "    line5.set_data(thisx, thisy)\n",
    "    \n",
    "    #airpods.set_height = yl\n",
    "    #airpods.set_width = xl\n",
    "    #airpods.set_xy = (xpos[i]-xl/2.0, ypos[i]-yl/2.0)\n",
    "    #airpods._angle = theta_step[i]\n",
    "    ball.center = (xpos[i], ypos[i])\n",
    "    \n",
    "    return line1, line2, line3, line4, line5, ball\n",
    "\n",
    "# Create animation\n",
    "\n",
    "anim = animation.FuncAnimation(fig, animate, init_func=init, frames=framesNum, interval=1200/FPS, repeat=False)\n",
    "anim.save('InclinedPlaneFriction.mp4')\n",
    "plt.close(anim._fig)\n",
    "\n",
    "# Display the animation\n",
    "HTML(anim.to_html5_video())"
   ]
  },
  {
   "cell_type": "code",
   "execution_count": null,
   "metadata": {},
   "outputs": [],
   "source": []
  }
 ],
 "metadata": {
  "kernelspec": {
   "display_name": "Python 3",
   "language": "python",
   "name": "python3"
  },
  "language_info": {
   "codemirror_mode": {
    "name": "ipython",
    "version": 3
   },
   "file_extension": ".py",
   "mimetype": "text/x-python",
   "name": "python",
   "nbconvert_exporter": "python",
   "pygments_lexer": "ipython3",
   "version": "3.6.8"
  }
 },
 "nbformat": 4,
 "nbformat_minor": 4
}
