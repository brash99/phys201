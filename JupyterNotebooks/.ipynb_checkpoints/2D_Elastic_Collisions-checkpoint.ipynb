{
 "cells": [
  {
   "cell_type": "code",
   "execution_count": 1,
   "metadata": {},
   "outputs": [],
   "source": [
    "import numpy as np\n",
    "import matplotlib.pyplot as plt"
   ]
  },
  {
   "cell_type": "code",
   "execution_count": 6,
   "metadata": {},
   "outputs": [
    {
     "name": "stdout",
     "output_type": "stream",
     "text": [
      "v3 = 2555911.6, v4 = 877114.0\n"
     ]
    }
   ],
   "source": [
    "deg_to_rad = np.pi/180.0\n",
    "\n",
    "m1 = 1.672E-27\n",
    "m2 = 4.0*m1\n",
    "\n",
    "v1 = 3.10E6\n",
    "v2 = 0\n",
    "\n",
    "theta1 = 0.0*deg_to_rad\n",
    "theta2 = 0.0*deg_to_rad\n",
    "theta3 = 76.0*deg_to_rad\n",
    "\n",
    "a = m2**2\n",
    "b = m1*v1*np.cos(theta1)+m2*v2*np.cos(theta2)\n",
    "c = m1*np.cos(theta3)\n",
    "e = m1*v1*np.sin(theta1)+m2*v2*np.sin(theta2)\n",
    "f = m1*np.sin(theta3)\n",
    "g = (m1*v1**2+m2*v2**2)/m1\n",
    "h = m2/m1\n",
    "\n",
    "nsteps = 100000\n",
    "for i in range(nsteps):\n",
    "    v4 = v1*(i+1)/nsteps\n",
    "    value = -a + ((b-c*np.sqrt(g-h*v4**2))/v4)**2 + ((e-f*np.sqrt(g-h*v4**2))/v4)**2\n",
    "    #print (v4,value)\n",
    "    if (value<0):\n",
    "        break\n",
    "        \n",
    "v3 = np.sqrt(g-h*v4**2)\n",
    "        \n",
    "print (\"v3 = %0.1f, v4 = %0.1f\" %(v3,v4) )"
   ]
  },
  {
   "cell_type": "code",
   "execution_count": null,
   "metadata": {},
   "outputs": [],
   "source": []
  }
 ],
 "metadata": {
  "kernelspec": {
   "display_name": "Python 3",
   "language": "python",
   "name": "python3"
  },
  "language_info": {
   "codemirror_mode": {
    "name": "ipython",
    "version": 3
   },
   "file_extension": ".py",
   "mimetype": "text/x-python",
   "name": "python",
   "nbconvert_exporter": "python",
   "pygments_lexer": "ipython3",
   "version": "3.6.8"
  }
 },
 "nbformat": 4,
 "nbformat_minor": 4
}
